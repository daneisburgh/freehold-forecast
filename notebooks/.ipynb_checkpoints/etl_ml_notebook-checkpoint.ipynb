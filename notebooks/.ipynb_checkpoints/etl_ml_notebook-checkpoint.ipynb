{
 "cells": [
  {
   "cell_type": "code",
   "execution_count": 1,
   "metadata": {},
   "outputs": [
    {
     "name": "stdout",
     "output_type": "stream",
     "text": [
      "INFO: Pandarallel will run on 5 workers.\n",
      "INFO: Pandarallel will use standard multiprocessing data transfer (pipe) to transfer data between the main process and workers.\n",
      "2022-08-31 22:31:40 INFO ETL_ML_Task Reading configuration from --conf-file job option\n",
      "2022-08-31 22:31:40 INFO ETL_ML_Task No conf file was provided, setting configuration to empty dict.Please override configuration in subclass init method\n",
      "2022-08-31 22:31:40 INFO ETL_ML_Task Launching job with configuration parameters:\n"
     ]
    }
   ],
   "source": [
    "import pandas as pd\n",
    "\n",
    "from pandarallel import pandarallel\n",
    "\n",
    "from freeholdforecast.tasks.etl_ml_task import ETL_ML_Task\n",
    "\n",
    "pd.options.display.max_columns = 100\n",
    "\n",
    "task = ETL_ML_Task()\n"
   ]
  },
  {
   "cell_type": "code",
   "execution_count": 2,
   "metadata": {},
   "outputs": [
    {
     "name": "stdout",
     "output_type": "stream",
     "text": [
      "2022-08-31 22:31:40 INFO ETL_ML_Task Retrieving data\n",
      "2022-08-31 22:31:40 INFO ETL_ML_Task Loading existing data\n",
      "2022-08-31 22:31:42 INFO ETL_ML_Task Successfully retrieved data\n"
     ]
    }
   ],
   "source": [
    "task.get_df_raw()\n"
   ]
  },
  {
   "cell_type": "code",
   "execution_count": 3,
   "metadata": {},
   "outputs": [
    {
     "name": "stdout",
     "output_type": "stream",
     "text": [
      "2022-08-31 22:31:42 INFO ETL_ML_Task Preparing data\n",
      "2022-08-31 22:31:42 INFO ETL_ML_Task Loading existing data\n",
      "2022-08-31 22:31:58 INFO ETL_ML_Task Successfully prepared data\n"
     ]
    }
   ],
   "source": [
    "task.get_df_ready()\n"
   ]
  },
  {
   "cell_type": "code",
   "execution_count": null,
   "metadata": {},
   "outputs": [
    {
     "name": "stdout",
     "output_type": "stream",
     "text": [
      "2022-08-31 22:31:58 INFO ETL_ML_Task Encoding data\n"
     ]
    },
    {
     "data": {
      "application/vnd.jupyter.widget-view+json": {
       "model_id": "590cfcd43bf1426399901e610e747247",
       "version_major": 2,
       "version_minor": 0
      },
      "text/plain": [
       "VBox(children=(HBox(children=(IntProgress(value=0, description='0.00%', max=5), Label(value='0 / 5'))), HBox(c…"
      ]
     },
     "metadata": {},
     "output_type": "display_data"
    }
   ],
   "source": [
    "task.get_df_encoded()\n"
   ]
  },
  {
   "cell_type": "code",
   "execution_count": null,
   "metadata": {},
   "outputs": [],
   "source": [
    "task.train_model(\"will_sell_next_year\")\n"
   ]
  },
  {
   "cell_type": "code",
   "execution_count": null,
   "metadata": {},
   "outputs": [],
   "source": [
    "task.train_model(\"will_sell_next_two_years\")\n"
   ]
  }
 ],
 "metadata": {
  "kernelspec": {
   "display_name": "Python 3 (ipykernel)",
   "language": "python",
   "name": "python3"
  },
  "language_info": {
   "codemirror_mode": {
    "name": "ipython",
    "version": 3
   },
   "file_extension": ".py",
   "mimetype": "text/x-python",
   "name": "python",
   "nbconvert_exporter": "python",
   "pygments_lexer": "ipython3",
   "version": "3.8.13"
  },
  "vscode": {
   "interpreter": {
    "hash": "303f50fedeb591095a70248be66f6d0febcdde8eae63ccefec7ef62ab17e9e58"
   }
  }
 },
 "nbformat": 4,
 "nbformat_minor": 2
}
