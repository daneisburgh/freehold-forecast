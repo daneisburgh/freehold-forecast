{
 "cells": [
  {
   "cell_type": "code",
   "execution_count": 1,
   "metadata": {},
   "outputs": [
    {
     "name": "stdout",
     "output_type": "stream",
     "text": [
      "2022-09-09 18:13:12 INFO ETL_ML_Task Initializing task for NCME with run date 2016-09-01\n",
      "2022-09-09 18:13:12 INFO ETL_ML_Task Train years: 5\n",
      "2022-09-09 18:13:12 INFO ETL_ML_Task Train dates: 2011-08-01 to 2016-08-01\n",
      "2022-09-09 18:13:12 INFO ETL_ML_Task Test dates: 2016-09-01 to 2016-09-01\n"
     ]
    }
   ],
   "source": [
    "import pandas as pd\n",
    "\n",
    "from pandarallel import pandarallel\n",
    "from freeholdforecast.tasks.etl_ml_task import ETL_ML_Task\n",
    "\n",
    "pd.options.display.max_columns = 100\n",
    "\n",
    "task = ETL_ML_Task()\n"
   ]
  },
  {
   "cell_type": "code",
   "execution_count": 2,
   "metadata": {},
   "outputs": [
    {
     "name": "stdout",
     "output_type": "stream",
     "text": [
      "2022-09-09 18:13:12 INFO ETL_ML_Task Retrieving and encoding data\n",
      "2022-09-09 18:13:12 INFO ETL_ML_Task Loading existing raw data\n",
      "2022-09-09 18:13:16 INFO ETL_ML_Task Total parcels: 315690\n",
      "2022-09-09 18:13:16 INFO ETL_ML_Task Total sales: 763441\n",
      "2022-09-09 18:13:16 INFO ETL_ML_Task Loading existing encoded data\n"
     ]
    }
   ],
   "source": [
    "task._get_df_raw_encoded()\n",
    "# task.df_raw\n"
   ]
  },
  {
   "cell_type": "code",
   "execution_count": 3,
   "metadata": {
    "scrolled": false
   },
   "outputs": [
    {
     "name": "stdout",
     "output_type": "stream",
     "text": [
      "2022-09-09 18:13:16 INFO ETL_ML_Task Loading existing prepared data\n",
      "2022-09-09 18:13:17 INFO ETL_ML_Task Splitting data\n"
     ]
    }
   ],
   "source": [
    "task._get_df_prepared()\n"
   ]
  },
  {
   "cell_type": "code",
   "execution_count": 4,
   "metadata": {
    "scrolled": true
   },
   "outputs": [
    {
     "name": "stdout",
     "output_type": "stream",
     "text": [
      "2022-09-09 18:13:17 INFO ETL_ML_Task Total labels: 4\n",
      "2022-09-09 18:13:17 INFO ETL_ML_Task Jobs per label: 2\n",
      "2022-09-09 18:13:17 INFO ETL_ML_Task Total fit minutes: 60\n",
      "2022-09-09 18:13:17 INFO ETL_ML_Task Job fit minutes: 30\n",
      "2022-09-09 18:13:17 INFO ETL_ML_Task Job memory limit (MB): 3072\n",
      "2022-09-09 18:13:17 INFO ETL_ML_Task Initialize AutoML for transfer_in_3_months\n",
      "2022-09-09 18:13:17 INFO ETL_ML_Task Train labels: 14741/747499 (1.97%)\n",
      "2022-09-09 18:13:18 INFO ETL_ML_Task Train resamped labels: 14741/113014 (13.04%)\n",
      "2022-09-09 18:13:18 INFO ETL_ML_Task Test labels: 240/12907 (1.86%)\n",
      "2022-09-09 18:13:18 INFO ETL_ML_Task Initialize AutoML for transfer_in_6_months\n",
      "2022-09-09 18:13:18 INFO ETL_ML_Task Train labels: 28857/747499 (3.86%)\n",
      "2022-09-09 18:13:18 INFO ETL_ML_Task Train resamped labels: 28857/221237 (13.04%)\n",
      "2022-09-09 18:13:18 INFO ETL_ML_Task Test labels: 486/12907 (3.77%)\n",
      "2022-09-09 18:13:18 INFO ETL_ML_Task Initialize AutoML for transfer_in_12_months\n",
      "2022-09-09 18:13:18 INFO ETL_ML_Task Train labels: 56410/747499 (7.55%)\n",
      "2022-09-09 18:13:19 INFO ETL_ML_Task Train resamped labels: 56410/432476 (13.04%)\n",
      "2022-09-09 18:13:19 INFO ETL_ML_Task Test labels: 1065/12907 (8.25%)\n",
      "2022-09-09 18:13:19 INFO ETL_ML_Task Initialize AutoML for transfer_in_24_months\n",
      "2022-09-09 18:13:19 INFO ETL_ML_Task Train labels: 110459/747499 (14.78%)\n",
      "2022-09-09 18:13:19 INFO ETL_ML_Task Test labels: 1984/12907 (15.37%)\n",
      "2022-09-09 18:13:20 INFO ETL_ML_Task Fitting model for transfer_in_12_months\n",
      "2022-09-09 18:13:20 INFO ETL_ML_Task Fitting model for transfer_in_6_months\n",
      "2022-09-09 18:13:20 INFO ETL_ML_Task Fitting model for transfer_in_3_months\n",
      "2022-09-09 18:13:20 INFO ETL_ML_Task Fitting model for transfer_in_24_months\n"
     ]
    },
    {
     "name": "stderr",
     "output_type": "stream",
     "text": [
      "/home/vscode/.local/share/virtualenvs/freehold-forecast-zrIN4e5_/lib/python3.8/site-packages/distributed/node.py:183: UserWarning: Port 8787 is already in use.\n",
      "Perhaps you already have a cluster running?\n",
      "Hosting the HTTP server on port 44521 instead\n",
      "  warnings.warn(\n",
      "/home/vscode/.local/share/virtualenvs/freehold-forecast-zrIN4e5_/lib/python3.8/site-packages/distributed/node.py:183: UserWarning: Port 8787 is already in use.\n",
      "Perhaps you already have a cluster running?\n",
      "Hosting the HTTP server on port 39071 instead\n",
      "  warnings.warn(\n"
     ]
    },
    {
     "name": "stdout",
     "output_type": "stream",
     "text": [
      "[WARNING] [2022-09-09 18:13:23,211:Client-AutoML(1):160adbc7-306b-11ed-96f1-0242ac110002] Dataset too large for memory limit 3072MB, reducing the precision from float64 to <class 'numpy.float32'>\n",
      "[WARNING] [2022-09-09 18:13:23,312:Client-AutoML(1):160adbc7-306b-11ed-96f1-0242ac110002] Dataset too large for memory limit 3072MB, reducing number of samples from 747499 to 592137.\n",
      "[WARNING] [2022-09-09 18:13:23,607:Client-AutoML(1):15f2cf21-306b-11ed-96ee-0242ac110002] Capping the per_run_time_limit to 1799.0 to have time for a least 2 models in each process.\n",
      "[WARNING] [2022-09-09 18:13:23,983:Client-AutoML(1):15f3a07a-306b-11ed-96ef-0242ac110002] Capping the per_run_time_limit to 1799.0 to have time for a least 2 models in each process.\n",
      "[WARNING] [2022-09-09 18:13:24,069:Client-AutoML(1):15f44502-306b-11ed-96f0-0242ac110002] Capping the per_run_time_limit to 1799.0 to have time for a least 2 models in each process.\n"
     ]
    },
    {
     "name": "stderr",
     "output_type": "stream",
     "text": [
      "/home/vscode/.local/share/virtualenvs/freehold-forecast-zrIN4e5_/lib/python3.8/site-packages/distributed/node.py:183: UserWarning: Port 8787 is already in use.\n",
      "Perhaps you already have a cluster running?\n",
      "Hosting the HTTP server on port 38663 instead\n",
      "  warnings.warn(\n"
     ]
    },
    {
     "name": "stdout",
     "output_type": "stream",
     "text": [
      "[WARNING] [2022-09-09 18:13:26,757:Client-AutoML(1):160adbc7-306b-11ed-96f1-0242ac110002] Capping the per_run_time_limit to 1799.0 to have time for a least 2 models in each process.\n",
      "2022-09-09 19:13:22 INFO ETL_ML_Task Saving model for transfer_in_3_months\n",
      "2022-09-09 19:13:22 INFO ETL_ML_Task Saving model for transfer_in_6_months\n",
      "2022-09-09 19:13:23 INFO ETL_ML_Task Saving model for transfer_in_12_months\n",
      "2022-09-09 19:13:25 INFO ETL_ML_Task Saving model for transfer_in_24_months\n"
     ]
    },
    {
     "name": "stderr",
     "output_type": "stream",
     "text": [
      "/home/vscode/.local/share/virtualenvs/freehold-forecast-zrIN4e5_/lib/python3.8/site-packages/_distutils_hack/__init__.py:33: UserWarning: Setuptools is replacing distutils.\n",
      "  warnings.warn(\"Setuptools is replacing distutils.\")\n",
      "/home/vscode/.local/share/virtualenvs/freehold-forecast-zrIN4e5_/lib/python3.8/site-packages/_distutils_hack/__init__.py:33: UserWarning: Setuptools is replacing distutils.\n",
      "  warnings.warn(\"Setuptools is replacing distutils.\")\n",
      "/home/vscode/.local/share/virtualenvs/freehold-forecast-zrIN4e5_/lib/python3.8/site-packages/_distutils_hack/__init__.py:33: UserWarning: Setuptools is replacing distutils.\n",
      "  warnings.warn(\"Setuptools is replacing distutils.\")\n",
      "/home/vscode/.local/share/virtualenvs/freehold-forecast-zrIN4e5_/lib/python3.8/site-packages/_distutils_hack/__init__.py:33: UserWarning: Setuptools is replacing distutils.\n",
      "  warnings.warn(\"Setuptools is replacing distutils.\")\n"
     ]
    },
    {
     "name": "stdout",
     "output_type": "stream",
     "text": [
      "2022-09-09 19:16:02 INFO ETL_ML_Task Model metrics for transfer_in_3_months\n",
      "2022-09-09 19:16:05 INFO ETL_ML_Task auto-sklearn results:\n",
      "  Dataset name: 15f2cf21-306b-11ed-96ee-0242ac110002\n",
      "  Metric: roc_auc\n",
      "  Best validation score: 0.960196\n",
      "  Number of target algorithm runs: 56\n",
      "  Number of successful target algorithm runs: 49\n",
      "  Number of crashed target algorithm runs: 1\n",
      "  Number of target algorithms that exceeded the time limit: 2\n",
      "  Number of target algorithms that exceeded the memory limit: 4\n",
      "\n",
      "2022-09-09 19:16:08 INFO ETL_ML_Task Pred labels: 179/12907 (1.39%)\n",
      "2022-09-09 19:16:08 INFO ETL_ML_Task Average precision: 0.43\n",
      "2022-09-09 19:16:08 INFO ETL_ML_Task Precision: 0.75\n",
      "2022-09-09 19:16:08 INFO ETL_ML_Task ROC AUC: 0.78\n",
      "2022-09-09 19:16:08 INFO ETL_ML_Task Classification report:\n",
      "              precision    recall  f1-score   support\n",
      "\n",
      "           0       0.99      1.00      0.99     12667\n",
      "           1       0.75      0.56      0.64       240\n",
      "\n",
      "    accuracy                           0.99     12907\n",
      "   macro avg       0.87      0.78      0.82     12907\n",
      "weighted avg       0.99      0.99      0.99     12907\n",
      "\n",
      "2022-09-09 19:16:08 INFO ETL_ML_Task Confusion matrix:\n",
      "Predicted      0    1    All\n",
      "Actual                      \n",
      "0          12623   44  12667\n",
      "1            105  135    240\n",
      "All        12728  179  12907\n",
      "2022-09-09 19:16:08 INFO ETL_ML_Task AP/P proba 0.5: 0.43/0.75 (tp=135, fp=44, tn=12623, fn=105)\n",
      "2022-09-09 19:16:08 INFO ETL_ML_Task AP/P proba 0.6: 0.44/0.77 (tp=134, fp=41, tn=12626, fn=106)\n",
      "2022-09-09 19:16:09 INFO ETL_ML_Task AP/P proba 0.7: 0.44/0.80 (tp=130, fp=32, tn=12635, fn=110)\n",
      "2022-09-09 19:16:09 INFO ETL_ML_Task AP/P proba 0.8: 0.47/0.86 (tp=130, fp=22, tn=12645, fn=110)\n",
      "2022-09-09 19:16:09 INFO ETL_ML_Task AP/P proba 0.9: 0.49/0.90 (tp=128, fp=14, tn=12653, fn=112)\n",
      "2022-09-09 19:16:09 INFO ETL_ML_Task Model metrics for transfer_in_6_months\n",
      "2022-09-09 19:16:09 INFO ETL_ML_Task auto-sklearn results:\n",
      "  Dataset name: 15f3a07a-306b-11ed-96ef-0242ac110002\n",
      "  Metric: roc_auc\n",
      "  Best validation score: 0.989543\n",
      "  Number of target algorithm runs: 42\n",
      "  Number of successful target algorithm runs: 35\n",
      "  Number of crashed target algorithm runs: 0\n",
      "  Number of target algorithms that exceeded the time limit: 1\n",
      "  Number of target algorithms that exceeded the memory limit: 6\n",
      "\n",
      "2022-09-09 19:16:12 INFO ETL_ML_Task Pred labels: 385/12907 (2.98%)\n",
      "2022-09-09 19:16:12 INFO ETL_ML_Task Average precision: 0.68\n",
      "2022-09-09 19:16:12 INFO ETL_ML_Task Precision: 0.92\n",
      "2022-09-09 19:16:12 INFO ETL_ML_Task ROC AUC: 0.86\n",
      "2022-09-09 19:16:12 INFO ETL_ML_Task Classification report:\n",
      "              precision    recall  f1-score   support\n",
      "\n",
      "           0       0.99      1.00      0.99     12421\n",
      "           1       0.92      0.73      0.81       486\n",
      "\n",
      "    accuracy                           0.99     12907\n",
      "   macro avg       0.95      0.86      0.90     12907\n",
      "weighted avg       0.99      0.99      0.99     12907\n",
      "\n",
      "2022-09-09 19:16:12 INFO ETL_ML_Task Confusion matrix:\n",
      "Predicted      0    1    All\n",
      "Actual                      \n",
      "0          12389   32  12421\n",
      "1            133  353    486\n",
      "All        12522  385  12907\n",
      "2022-09-09 19:16:12 INFO ETL_ML_Task AP/P proba 0.5: 0.68/0.92 (tp=353, fp=32, tn=12389, fn=133)\n",
      "2022-09-09 19:16:12 INFO ETL_ML_Task AP/P proba 0.6: 0.68/0.93 (tp=351, fp=28, tn=12393, fn=135)\n",
      "2022-09-09 19:16:12 INFO ETL_ML_Task AP/P proba 0.7: 0.69/0.94 (tp=351, fp=23, tn=12398, fn=135)\n",
      "2022-09-09 19:16:12 INFO ETL_ML_Task AP/P proba 0.8: 0.70/0.95 (tp=349, fp=17, tn=12404, fn=137)\n",
      "2022-09-09 19:16:12 INFO ETL_ML_Task AP/P proba 0.9: 0.68/0.98 (tp=334, fp=7, tn=12414, fn=152)\n",
      "2022-09-09 19:16:12 INFO ETL_ML_Task Model metrics for transfer_in_12_months\n",
      "2022-09-09 19:16:13 INFO ETL_ML_Task auto-sklearn results:\n",
      "  Dataset name: 15f44502-306b-11ed-96f0-0242ac110002\n",
      "  Metric: roc_auc\n",
      "  Best validation score: 0.997536\n",
      "  Number of target algorithm runs: 26\n",
      "  Number of successful target algorithm runs: 19\n",
      "  Number of crashed target algorithm runs: 2\n",
      "  Number of target algorithms that exceeded the time limit: 1\n",
      "  Number of target algorithms that exceeded the memory limit: 4\n",
      "\n",
      "2022-09-09 19:16:13 INFO ETL_ML_Task Pred labels: 928/12907 (7.19%)\n",
      "2022-09-09 19:16:13 INFO ETL_ML_Task Average precision: 0.87\n",
      "2022-09-09 19:16:13 INFO ETL_ML_Task Precision: 0.99\n",
      "2022-09-09 19:16:13 INFO ETL_ML_Task ROC AUC: 0.93\n",
      "2022-09-09 19:16:13 INFO ETL_ML_Task Classification report:\n",
      "              precision    recall  f1-score   support\n",
      "\n",
      "           0       0.99      1.00      0.99     11842\n",
      "           1       0.99      0.86      0.92      1065\n",
      "\n",
      "    accuracy                           0.99     12907\n",
      "   macro avg       0.99      0.93      0.96     12907\n",
      "weighted avg       0.99      0.99      0.99     12907\n",
      "\n",
      "2022-09-09 19:16:13 INFO ETL_ML_Task Confusion matrix:\n",
      "Predicted      0    1    All\n",
      "Actual                      \n",
      "0          11835    7  11842\n",
      "1            144  921   1065\n",
      "All        11979  928  12907\n",
      "2022-09-09 19:16:13 INFO ETL_ML_Task AP/P proba 0.5: 0.87/0.99 (tp=921, fp=7, tn=11835, fn=144)\n",
      "2022-09-09 19:16:13 INFO ETL_ML_Task AP/P proba 0.6: 0.87/0.99 (tp=917, fp=6, tn=11836, fn=148)\n",
      "2022-09-09 19:16:13 INFO ETL_ML_Task AP/P proba 0.7: 0.87/1.00 (tp=914, fp=4, tn=11838, fn=151)\n",
      "2022-09-09 19:16:13 INFO ETL_ML_Task AP/P proba 0.8: 0.86/1.00 (tp=912, fp=4, tn=11838, fn=153)\n",
      "2022-09-09 19:16:13 INFO ETL_ML_Task AP/P proba 0.9: 0.86/1.00 (tp=911, fp=3, tn=11839, fn=154)\n",
      "2022-09-09 19:16:13 INFO ETL_ML_Task Model metrics for transfer_in_24_months\n",
      "2022-09-09 19:16:15 INFO ETL_ML_Task auto-sklearn results:\n",
      "  Dataset name: 160adbc7-306b-11ed-96f1-0242ac110002\n",
      "  Metric: roc_auc\n",
      "  Best validation score: 0.997062\n",
      "  Number of target algorithm runs: 19\n",
      "  Number of successful target algorithm runs: 15\n",
      "  Number of crashed target algorithm runs: 0\n",
      "  Number of target algorithms that exceeded the time limit: 2\n",
      "  Number of target algorithms that exceeded the memory limit: 2\n",
      "\n",
      "2022-09-09 19:16:16 INFO ETL_ML_Task Pred labels: 1808/12907 (14.01%)\n",
      "2022-09-09 19:16:16 INFO ETL_ML_Task Average precision: 0.91\n",
      "2022-09-09 19:16:16 INFO ETL_ML_Task Precision: 0.99\n",
      "2022-09-09 19:16:16 INFO ETL_ML_Task ROC AUC: 0.95\n",
      "2022-09-09 19:16:16 INFO ETL_ML_Task Classification report:\n",
      "              precision    recall  f1-score   support\n",
      "\n",
      "           0       0.98      1.00      0.99     10923\n",
      "           1       0.99      0.90      0.94      1984\n",
      "\n",
      "    accuracy                           0.98     12907\n",
      "   macro avg       0.99      0.95      0.97     12907\n",
      "weighted avg       0.98      0.98      0.98     12907\n",
      "\n",
      "2022-09-09 19:16:16 INFO ETL_ML_Task Confusion matrix:\n",
      "Predicted      0     1    All\n",
      "Actual                       \n",
      "0          10906    17  10923\n",
      "1            193  1791   1984\n",
      "All        11099  1808  12907\n",
      "2022-09-09 19:16:16 INFO ETL_ML_Task AP/P proba 0.5: 0.91/0.99 (tp=1791, fp=17, tn=10906, fn=193)\n",
      "2022-09-09 19:16:16 INFO ETL_ML_Task AP/P proba 0.6: 0.91/0.99 (tp=1778, fp=9, tn=10914, fn=206)\n",
      "2022-09-09 19:16:16 INFO ETL_ML_Task AP/P proba 0.7: 0.87/1.00 (tp=1696, fp=7, tn=10916, fn=288)\n",
      "2022-09-09 19:16:16 INFO ETL_ML_Task AP/P proba 0.8: 0.78/1.00 (tp=1478, fp=1, tn=10922, fn=506)\n",
      "2022-09-09 19:16:16 INFO ETL_ML_Task AP/P proba 0.9: 0.48/1.00 (tp=760, fp=1, tn=10922, fn=1224)\n"
     ]
    }
   ],
   "source": [
    "task._train_models()\n"
   ]
  }
 ],
 "metadata": {
  "kernelspec": {
   "display_name": "Python 3 (ipykernel)",
   "language": "python",
   "name": "python3"
  },
  "language_info": {
   "codemirror_mode": {
    "name": "ipython",
    "version": 3
   },
   "file_extension": ".py",
   "mimetype": "text/x-python",
   "name": "python",
   "nbconvert_exporter": "python",
   "pygments_lexer": "ipython3",
   "version": "3.8.13"
  },
  "vscode": {
   "interpreter": {
    "hash": "303f50fedeb591095a70248be66f6d0febcdde8eae63ccefec7ef62ab17e9e58"
   }
  }
 },
 "nbformat": 4,
 "nbformat_minor": 2
}
