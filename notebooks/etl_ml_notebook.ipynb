{
 "cells": [
  {
   "cell_type": "code",
   "execution_count": 1,
   "metadata": {},
   "outputs": [
    {
     "name": "stdout",
     "output_type": "stream",
     "text": [
      "2022-09-07 00:00:24 INFO ETL_ML_Task Initialized task for ohio-hamilton with run date 2016-09-01\n"
     ]
    }
   ],
   "source": [
    "import pandas as pd\n",
    "\n",
    "from pandarallel import pandarallel\n",
    "\n",
    "from freeholdforecast.tasks.etl_ml_task import ETL_ML_Task\n",
    "\n",
    "pd.options.display.max_columns = 100\n",
    "\n",
    "task = ETL_ML_Task()\n"
   ]
  },
  {
   "cell_type": "code",
   "execution_count": 2,
   "metadata": {},
   "outputs": [
    {
     "name": "stdout",
     "output_type": "stream",
     "text": [
      "2022-09-07 00:00:24 INFO ETL_ML_Task Retrieving and encoding data\n",
      "2022-09-07 00:00:24 INFO ETL_ML_Task Loading existing raw data\n",
      "2022-09-07 00:00:26 INFO ETL_ML_Task Total parcels: 280902\n",
      "2022-09-07 00:00:26 INFO ETL_ML_Task Total sales: 497550\n",
      "2022-09-07 00:00:26 INFO ETL_ML_Task Loading existing encoded data\n"
     ]
    }
   ],
   "source": [
    "task._get_df_raw_encoded()\n",
    "# task.df_raw_encoded\n"
   ]
  },
  {
   "cell_type": "code",
   "execution_count": 3,
   "metadata": {
    "scrolled": false
   },
   "outputs": [
    {
     "name": "stdout",
     "output_type": "stream",
     "text": [
      "2022-09-07 00:00:26 INFO ETL_ML_Task Loading existing prepared data\n",
      "2022-09-07 00:00:27 INFO ETL_ML_Task Splitting data\n",
      "2022-09-07 00:00:27 INFO ETL_ML_Task Train dates: 2006-08-01 to 2016-08-01\n",
      "2022-09-07 00:00:27 INFO ETL_ML_Task Test dates: 2016-09-01 to 2018-09-01\n"
     ]
    }
   ],
   "source": [
    "task._get_df_prepared()\n",
    "# task.df_prepared\n"
   ]
  },
  {
   "cell_type": "code",
   "execution_count": 4,
   "metadata": {},
   "outputs": [
    {
     "data": {
      "text/plain": [
       "transfer_in_3_months  transfer_in_6_months  transfer_in_12_months  transfer_in_24_months\n",
       "0                     0                     0                      0                        4731482\n",
       "                                                                   1                         175232\n",
       "                                            1                      1                          99134\n",
       "                      1                     1                      1                          55025\n",
       "1                     1                     1                      1                          60391\n",
       "dtype: int64"
      ]
     },
     "execution_count": 4,
     "metadata": {},
     "output_type": "execute_result"
    }
   ],
   "source": [
    "label_names = [\n",
    "    \"transfer_in_3_months\",\n",
    "    \"transfer_in_6_months\",\n",
    "    \"transfer_in_12_months\",\n",
    "    \"transfer_in_24_months\",\n",
    "]\n",
    "\n",
    "task.df_prepared.groupby(label_names).size()"
   ]
  },
  {
   "cell_type": "code",
   "execution_count": null,
   "metadata": {
    "scrolled": false
   },
   "outputs": [
    {
     "name": "stdout",
     "output_type": "stream",
     "text": [
      "2022-09-07 00:00:28 INFO ETL_ML_Task Total labels: 4\n",
      "2022-09-07 00:00:28 INFO ETL_ML_Task Jobs per label: 2\n",
      "2022-09-07 00:00:28 INFO ETL_ML_Task Total fit minutes: 15\n",
      "2022-09-07 00:00:28 INFO ETL_ML_Task Job fit minutes: 10\n",
      "2022-09-07 00:00:28 INFO ETL_ML_Task Job memory limit (MB): 4096\n",
      "2022-09-07 00:00:28 INFO ETL_ML_Task ----------------------  Start init AutoML for transfer_in_3_months ----------------------\n",
      "2022-09-07 00:00:29 INFO ETL_ML_Task Train labels: 28758/2435461 (1.18%)\n",
      "2022-09-07 00:00:29 INFO ETL_ML_Task Train res labels: 28758/316338 (9.09%)\n",
      "2022-09-07 00:00:29 INFO ETL_ML_Task Test labels: 8364/619404 (1.35%)\n",
      "2022-09-07 00:00:29 INFO ETL_ML_Task ----------------------   End init AutoML for transfer_in_3_months  ----------------------\n",
      "2022-09-07 00:00:29 INFO ETL_ML_Task ----------------------  Start init AutoML for transfer_in_6_months ----------------------\n",
      "2022-09-07 00:00:30 INFO ETL_ML_Task Train labels: 54497/2435461 (2.24%)\n",
      "2022-09-07 00:00:30 INFO ETL_ML_Task Train res labels: 54497/599467 (9.09%)\n",
      "2022-09-07 00:00:30 INFO ETL_ML_Task Test labels: 16106/619404 (2.60%)\n",
      "2022-09-07 00:00:30 INFO ETL_ML_Task ----------------------   End init AutoML for transfer_in_6_months  ----------------------\n",
      "2022-09-07 00:00:30 INFO ETL_ML_Task ---------------------- Start init AutoML for transfer_in_12_months ----------------------\n",
      "2022-09-07 00:00:31 INFO ETL_ML_Task Train labels: 101165/2435461 (4.15%)\n",
      "2022-09-07 00:00:31 INFO ETL_ML_Task Train res labels: 101165/1112815 (9.09%)\n",
      "2022-09-07 00:00:32 INFO ETL_ML_Task Test labels: 30858/619404 (4.98%)\n",
      "2022-09-07 00:00:32 INFO ETL_ML_Task ----------------------  End init AutoML for transfer_in_12_months  ----------------------\n",
      "2022-09-07 00:00:32 INFO ETL_ML_Task ---------------------- Start init AutoML for transfer_in_24_months ----------------------\n",
      "2022-09-07 00:00:33 INFO ETL_ML_Task Train labels: 188196/2435461 (7.73%)\n",
      "2022-09-07 00:00:33 INFO ETL_ML_Task Train res labels: 188196/2070156 (9.09%)\n",
      "2022-09-07 00:00:33 INFO ETL_ML_Task Test labels: 58394/619404 (9.43%)\n",
      "2022-09-07 00:00:33 INFO ETL_ML_Task ----------------------  End init AutoML for transfer_in_24_months  ----------------------\n",
      "2022-09-07 00:01:04 INFO ETL_ML_Task Fitting model for transfer_in_3_months\n",
      "[WARNING] [2022-09-07 00:01:08,103:Client-AutoML(1):2a9cab7f-2e40-11ed-8f9b-0242ac110002] Dataset too large for memory limit 4096MB, reducing the precision from float64 to <class 'numpy.float32'>\n",
      "[WARNING] [2022-09-07 00:01:08,179:Client-AutoML(1):2a9cab7f-2e40-11ed-8f9b-0242ac110002] Dataset too large for memory limit 4096MB, reducing number of samples from 2070156 to 1851279.\n",
      "[WARNING] [2022-09-07 00:01:11,091:Client-AutoML(1):2a9cab7f-2e40-11ed-8f9b-0242ac110002] Capping the per_run_time_limit to 448.0 to have time for a least 2 models in each process.\n",
      "2022-09-07 00:01:34 INFO ETL_ML_Task Fitting model for transfer_in_6_months\n",
      "[WARNING] [2022-09-07 00:01:39,741:Client-AutoML(1):3c98da01-2e40-11ed-908d-0242ac110002] Dataset too large for memory limit 4096MB, reducing the precision from float64 to <class 'numpy.float32'>\n",
      "[WARNING] [2022-09-07 00:01:39,838:Client-AutoML(1):3c98da01-2e40-11ed-908d-0242ac110002] Dataset too large for memory limit 4096MB, reducing number of samples from 2070156 to 1851279.\n"
     ]
    },
    {
     "name": "stderr",
     "output_type": "stream",
     "text": [
      "/home/vscode/.local/share/virtualenvs/freehold-forecast-zrIN4e5_/lib/python3.8/site-packages/distributed/node.py:183: UserWarning: Port 8787 is already in use.\n",
      "Perhaps you already have a cluster running?\n",
      "Hosting the HTTP server on port 37129 instead\n",
      "  warnings.warn(\n"
     ]
    },
    {
     "name": "stdout",
     "output_type": "stream",
     "text": [
      "[WARNING] [2022-09-07 00:01:43,181:Client-AutoML(1):3c98da01-2e40-11ed-908d-0242ac110002] Capping the per_run_time_limit to 448.0 to have time for a least 2 models in each process.\n",
      "2022-09-07 00:02:04 INFO ETL_ML_Task Fitting model for transfer_in_12_months\n",
      "[WARNING] [2022-09-07 00:02:06,976:Client-AutoML(1):4e8d75a6-2e40-11ed-9194-0242ac110002] Dataset too large for memory limit 4096MB, reducing the precision from float64 to <class 'numpy.float32'>\n",
      "[WARNING] [2022-09-07 00:02:07,119:Client-AutoML(1):4e8d75a6-2e40-11ed-9194-0242ac110002] Dataset too large for memory limit 4096MB, reducing number of samples from 2070156 to 1851279.\n"
     ]
    },
    {
     "name": "stderr",
     "output_type": "stream",
     "text": [
      "/home/vscode/.local/share/virtualenvs/freehold-forecast-zrIN4e5_/lib/python3.8/site-packages/distributed/node.py:183: UserWarning: Port 8787 is already in use.\n",
      "Perhaps you already have a cluster running?\n",
      "Hosting the HTTP server on port 38425 instead\n",
      "  warnings.warn(\n"
     ]
    },
    {
     "name": "stdout",
     "output_type": "stream",
     "text": [
      "[WARNING] [2022-09-07 00:02:11,381:Client-AutoML(1):4e8d75a6-2e40-11ed-9194-0242ac110002] Capping the per_run_time_limit to 448.0 to have time for a least 2 models in each process.\n",
      "2022-09-07 00:02:35 INFO ETL_ML_Task Fitting model for transfer_in_24_months\n",
      "[WARNING] [2022-09-07 00:02:39,164:Client-AutoML(1):60b8245c-2e40-11ed-92b6-0242ac110002] Dataset too large for memory limit 4096MB, reducing the precision from float64 to <class 'numpy.float32'>\n",
      "[WARNING] [2022-09-07 00:02:39,358:Client-AutoML(1):60b8245c-2e40-11ed-92b6-0242ac110002] Dataset too large for memory limit 4096MB, reducing number of samples from 2070156 to 1851279.\n"
     ]
    },
    {
     "name": "stderr",
     "output_type": "stream",
     "text": [
      "/home/vscode/.local/share/virtualenvs/freehold-forecast-zrIN4e5_/lib/python3.8/site-packages/distributed/node.py:183: UserWarning: Port 8787 is already in use.\n",
      "Perhaps you already have a cluster running?\n",
      "Hosting the HTTP server on port 40705 instead\n",
      "  warnings.warn(\n"
     ]
    },
    {
     "name": "stdout",
     "output_type": "stream",
     "text": [
      "[WARNING] [2022-09-07 00:02:44,888:Client-AutoML(1):60b8245c-2e40-11ed-92b6-0242ac110002] Capping the per_run_time_limit to 448.0 to have time for a least 2 models in each process.\n"
     ]
    }
   ],
   "source": [
    "task._train_models()"
   ]
  }
 ],
 "metadata": {
  "kernelspec": {
   "display_name": "Python 3 (ipykernel)",
   "language": "python",
   "name": "python3"
  },
  "language_info": {
   "codemirror_mode": {
    "name": "ipython",
    "version": 3
   },
   "file_extension": ".py",
   "mimetype": "text/x-python",
   "name": "python",
   "nbconvert_exporter": "python",
   "pygments_lexer": "ipython3",
   "version": "3.8.13"
  },
  "vscode": {
   "interpreter": {
    "hash": "303f50fedeb591095a70248be66f6d0febcdde8eae63ccefec7ef62ab17e9e58"
   }
  }
 },
 "nbformat": 4,
 "nbformat_minor": 2
}
